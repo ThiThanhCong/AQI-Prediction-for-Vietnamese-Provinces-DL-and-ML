{
  "nbformat": 4,
  "nbformat_minor": 0,
  "metadata": {
    "colab": {
      "provenance": []
    },
    "kernelspec": {
      "name": "python3",
      "display_name": "Python 3"
    },
    "language_info": {
      "name": "python"
    }
  },
  "cells": [
    {
      "cell_type": "code",
      "execution_count": 1,
      "metadata": {
        "id": "0zFFVkLr3ob5"
      },
      "outputs": [],
      "source": [
        "import numpy as np\n",
        "import pandas as pd\n",
        "import matplotlib.pyplot as plt"
      ]
    },
    {
      "cell_type": "code",
      "source": [
        "from google.colab import drive\n",
        "drive.mount('/content/drive')"
      ],
      "metadata": {
        "colab": {
          "base_uri": "https://localhost:8080/"
        },
        "id": "OvHw7HZs4npX",
        "outputId": "52150ac3-62b1-47e7-ca69-f433067231ae"
      },
      "execution_count": 2,
      "outputs": [
        {
          "output_type": "stream",
          "name": "stdout",
          "text": [
            "Mounted at /content/drive\n"
          ]
        }
      ]
    },
    {
      "cell_type": "code",
      "source": [
        "df = pd.read_csv('/content/drive/MyDrive/Dataset/QuangNinh.csv')"
      ],
      "metadata": {
        "id": "IlMJEpBY4053"
      },
      "execution_count": 18,
      "outputs": []
    },
    {
      "cell_type": "code",
      "source": [
        "# Convert the 'date' column to datetime format\n",
        "df['date'] = pd.to_datetime(df['date'], format='%m/%d/%Y')\n",
        "df = df[df['date'] < '2024-03-01']\n",
        "\n",
        "df['AQI'] = df[['pm25', 'pm10', 'o3', 'no2', 'so2', 'co']].max(axis=1)\n",
        "\n",
        "df"
      ],
      "metadata": {
        "id": "DVPoX2nev1dH",
        "colab": {
          "base_uri": "https://localhost:8080/",
          "height": 423
        },
        "outputId": "cf42fe53-0a28-4ee7-8e06-ec5788518dbf"
      },
      "execution_count": 28,
      "outputs": [
        {
          "output_type": "execute_result",
          "data": {
            "text/plain": [
              "     Unnamed: 0       date  pm25  pm10  o3  no2  so2  co  AQI\n",
              "0             1 2021-02-14    20     6  28    5   12   5   28\n",
              "1             2 2021-02-15     9    14  28    9   12   5   28\n",
              "2             3 2021-02-16    18    17  26    9   12   6   26\n",
              "3             4 2021-02-17    20    24  26   15   12   6   26\n",
              "4             5 2021-02-18    28    29  38   16   12   6   38\n",
              "..          ...        ...   ...   ...  ..  ...  ...  ..  ...\n",
              "899         900 2024-02-25     5     8   6    6    7   6    8\n",
              "900         901 2024-02-26     7     4   8    3    6   5    8\n",
              "901         902 2024-02-27     4    12   4   11    9   6   12\n",
              "902         903 2024-02-28    11     6   9    5    7   6   11\n",
              "903         904 2024-02-29     5     5  13    7    6   6   13\n",
              "\n",
              "[904 rows x 9 columns]"
            ],
            "text/html": [
              "\n",
              "  <div id=\"df-14dc0c09-7c29-4dfa-8ae6-f935ca75a493\" class=\"colab-df-container\">\n",
              "    <div>\n",
              "<style scoped>\n",
              "    .dataframe tbody tr th:only-of-type {\n",
              "        vertical-align: middle;\n",
              "    }\n",
              "\n",
              "    .dataframe tbody tr th {\n",
              "        vertical-align: top;\n",
              "    }\n",
              "\n",
              "    .dataframe thead th {\n",
              "        text-align: right;\n",
              "    }\n",
              "</style>\n",
              "<table border=\"1\" class=\"dataframe\">\n",
              "  <thead>\n",
              "    <tr style=\"text-align: right;\">\n",
              "      <th></th>\n",
              "      <th>Unnamed: 0</th>\n",
              "      <th>date</th>\n",
              "      <th>pm25</th>\n",
              "      <th>pm10</th>\n",
              "      <th>o3</th>\n",
              "      <th>no2</th>\n",
              "      <th>so2</th>\n",
              "      <th>co</th>\n",
              "      <th>AQI</th>\n",
              "    </tr>\n",
              "  </thead>\n",
              "  <tbody>\n",
              "    <tr>\n",
              "      <th>0</th>\n",
              "      <td>1</td>\n",
              "      <td>2021-02-14</td>\n",
              "      <td>20</td>\n",
              "      <td>6</td>\n",
              "      <td>28</td>\n",
              "      <td>5</td>\n",
              "      <td>12</td>\n",
              "      <td>5</td>\n",
              "      <td>28</td>\n",
              "    </tr>\n",
              "    <tr>\n",
              "      <th>1</th>\n",
              "      <td>2</td>\n",
              "      <td>2021-02-15</td>\n",
              "      <td>9</td>\n",
              "      <td>14</td>\n",
              "      <td>28</td>\n",
              "      <td>9</td>\n",
              "      <td>12</td>\n",
              "      <td>5</td>\n",
              "      <td>28</td>\n",
              "    </tr>\n",
              "    <tr>\n",
              "      <th>2</th>\n",
              "      <td>3</td>\n",
              "      <td>2021-02-16</td>\n",
              "      <td>18</td>\n",
              "      <td>17</td>\n",
              "      <td>26</td>\n",
              "      <td>9</td>\n",
              "      <td>12</td>\n",
              "      <td>6</td>\n",
              "      <td>26</td>\n",
              "    </tr>\n",
              "    <tr>\n",
              "      <th>3</th>\n",
              "      <td>4</td>\n",
              "      <td>2021-02-17</td>\n",
              "      <td>20</td>\n",
              "      <td>24</td>\n",
              "      <td>26</td>\n",
              "      <td>15</td>\n",
              "      <td>12</td>\n",
              "      <td>6</td>\n",
              "      <td>26</td>\n",
              "    </tr>\n",
              "    <tr>\n",
              "      <th>4</th>\n",
              "      <td>5</td>\n",
              "      <td>2021-02-18</td>\n",
              "      <td>28</td>\n",
              "      <td>29</td>\n",
              "      <td>38</td>\n",
              "      <td>16</td>\n",
              "      <td>12</td>\n",
              "      <td>6</td>\n",
              "      <td>38</td>\n",
              "    </tr>\n",
              "    <tr>\n",
              "      <th>...</th>\n",
              "      <td>...</td>\n",
              "      <td>...</td>\n",
              "      <td>...</td>\n",
              "      <td>...</td>\n",
              "      <td>...</td>\n",
              "      <td>...</td>\n",
              "      <td>...</td>\n",
              "      <td>...</td>\n",
              "      <td>...</td>\n",
              "    </tr>\n",
              "    <tr>\n",
              "      <th>899</th>\n",
              "      <td>900</td>\n",
              "      <td>2024-02-25</td>\n",
              "      <td>5</td>\n",
              "      <td>8</td>\n",
              "      <td>6</td>\n",
              "      <td>6</td>\n",
              "      <td>7</td>\n",
              "      <td>6</td>\n",
              "      <td>8</td>\n",
              "    </tr>\n",
              "    <tr>\n",
              "      <th>900</th>\n",
              "      <td>901</td>\n",
              "      <td>2024-02-26</td>\n",
              "      <td>7</td>\n",
              "      <td>4</td>\n",
              "      <td>8</td>\n",
              "      <td>3</td>\n",
              "      <td>6</td>\n",
              "      <td>5</td>\n",
              "      <td>8</td>\n",
              "    </tr>\n",
              "    <tr>\n",
              "      <th>901</th>\n",
              "      <td>902</td>\n",
              "      <td>2024-02-27</td>\n",
              "      <td>4</td>\n",
              "      <td>12</td>\n",
              "      <td>4</td>\n",
              "      <td>11</td>\n",
              "      <td>9</td>\n",
              "      <td>6</td>\n",
              "      <td>12</td>\n",
              "    </tr>\n",
              "    <tr>\n",
              "      <th>902</th>\n",
              "      <td>903</td>\n",
              "      <td>2024-02-28</td>\n",
              "      <td>11</td>\n",
              "      <td>6</td>\n",
              "      <td>9</td>\n",
              "      <td>5</td>\n",
              "      <td>7</td>\n",
              "      <td>6</td>\n",
              "      <td>11</td>\n",
              "    </tr>\n",
              "    <tr>\n",
              "      <th>903</th>\n",
              "      <td>904</td>\n",
              "      <td>2024-02-29</td>\n",
              "      <td>5</td>\n",
              "      <td>5</td>\n",
              "      <td>13</td>\n",
              "      <td>7</td>\n",
              "      <td>6</td>\n",
              "      <td>6</td>\n",
              "      <td>13</td>\n",
              "    </tr>\n",
              "  </tbody>\n",
              "</table>\n",
              "<p>904 rows × 9 columns</p>\n",
              "</div>\n",
              "    <div class=\"colab-df-buttons\">\n",
              "\n",
              "  <div class=\"colab-df-container\">\n",
              "    <button class=\"colab-df-convert\" onclick=\"convertToInteractive('df-14dc0c09-7c29-4dfa-8ae6-f935ca75a493')\"\n",
              "            title=\"Convert this dataframe to an interactive table.\"\n",
              "            style=\"display:none;\">\n",
              "\n",
              "  <svg xmlns=\"http://www.w3.org/2000/svg\" height=\"24px\" viewBox=\"0 -960 960 960\">\n",
              "    <path d=\"M120-120v-720h720v720H120Zm60-500h600v-160H180v160Zm220 220h160v-160H400v160Zm0 220h160v-160H400v160ZM180-400h160v-160H180v160Zm440 0h160v-160H620v160ZM180-180h160v-160H180v160Zm440 0h160v-160H620v160Z\"/>\n",
              "  </svg>\n",
              "    </button>\n",
              "\n",
              "  <style>\n",
              "    .colab-df-container {\n",
              "      display:flex;\n",
              "      gap: 12px;\n",
              "    }\n",
              "\n",
              "    .colab-df-convert {\n",
              "      background-color: #E8F0FE;\n",
              "      border: none;\n",
              "      border-radius: 50%;\n",
              "      cursor: pointer;\n",
              "      display: none;\n",
              "      fill: #1967D2;\n",
              "      height: 32px;\n",
              "      padding: 0 0 0 0;\n",
              "      width: 32px;\n",
              "    }\n",
              "\n",
              "    .colab-df-convert:hover {\n",
              "      background-color: #E2EBFA;\n",
              "      box-shadow: 0px 1px 2px rgba(60, 64, 67, 0.3), 0px 1px 3px 1px rgba(60, 64, 67, 0.15);\n",
              "      fill: #174EA6;\n",
              "    }\n",
              "\n",
              "    .colab-df-buttons div {\n",
              "      margin-bottom: 4px;\n",
              "    }\n",
              "\n",
              "    [theme=dark] .colab-df-convert {\n",
              "      background-color: #3B4455;\n",
              "      fill: #D2E3FC;\n",
              "    }\n",
              "\n",
              "    [theme=dark] .colab-df-convert:hover {\n",
              "      background-color: #434B5C;\n",
              "      box-shadow: 0px 1px 3px 1px rgba(0, 0, 0, 0.15);\n",
              "      filter: drop-shadow(0px 1px 2px rgba(0, 0, 0, 0.3));\n",
              "      fill: #FFFFFF;\n",
              "    }\n",
              "  </style>\n",
              "\n",
              "    <script>\n",
              "      const buttonEl =\n",
              "        document.querySelector('#df-14dc0c09-7c29-4dfa-8ae6-f935ca75a493 button.colab-df-convert');\n",
              "      buttonEl.style.display =\n",
              "        google.colab.kernel.accessAllowed ? 'block' : 'none';\n",
              "\n",
              "      async function convertToInteractive(key) {\n",
              "        const element = document.querySelector('#df-14dc0c09-7c29-4dfa-8ae6-f935ca75a493');\n",
              "        const dataTable =\n",
              "          await google.colab.kernel.invokeFunction('convertToInteractive',\n",
              "                                                    [key], {});\n",
              "        if (!dataTable) return;\n",
              "\n",
              "        const docLinkHtml = 'Like what you see? Visit the ' +\n",
              "          '<a target=\"_blank\" href=https://colab.research.google.com/notebooks/data_table.ipynb>data table notebook</a>'\n",
              "          + ' to learn more about interactive tables.';\n",
              "        element.innerHTML = '';\n",
              "        dataTable['output_type'] = 'display_data';\n",
              "        await google.colab.output.renderOutput(dataTable, element);\n",
              "        const docLink = document.createElement('div');\n",
              "        docLink.innerHTML = docLinkHtml;\n",
              "        element.appendChild(docLink);\n",
              "      }\n",
              "    </script>\n",
              "  </div>\n",
              "\n",
              "\n",
              "<div id=\"df-a2cb2e1f-90e2-4566-ad95-5b0323e4e9f5\">\n",
              "  <button class=\"colab-df-quickchart\" onclick=\"quickchart('df-a2cb2e1f-90e2-4566-ad95-5b0323e4e9f5')\"\n",
              "            title=\"Suggest charts\"\n",
              "            style=\"display:none;\">\n",
              "\n",
              "<svg xmlns=\"http://www.w3.org/2000/svg\" height=\"24px\"viewBox=\"0 0 24 24\"\n",
              "     width=\"24px\">\n",
              "    <g>\n",
              "        <path d=\"M19 3H5c-1.1 0-2 .9-2 2v14c0 1.1.9 2 2 2h14c1.1 0 2-.9 2-2V5c0-1.1-.9-2-2-2zM9 17H7v-7h2v7zm4 0h-2V7h2v10zm4 0h-2v-4h2v4z\"/>\n",
              "    </g>\n",
              "</svg>\n",
              "  </button>\n",
              "\n",
              "<style>\n",
              "  .colab-df-quickchart {\n",
              "      --bg-color: #E8F0FE;\n",
              "      --fill-color: #1967D2;\n",
              "      --hover-bg-color: #E2EBFA;\n",
              "      --hover-fill-color: #174EA6;\n",
              "      --disabled-fill-color: #AAA;\n",
              "      --disabled-bg-color: #DDD;\n",
              "  }\n",
              "\n",
              "  [theme=dark] .colab-df-quickchart {\n",
              "      --bg-color: #3B4455;\n",
              "      --fill-color: #D2E3FC;\n",
              "      --hover-bg-color: #434B5C;\n",
              "      --hover-fill-color: #FFFFFF;\n",
              "      --disabled-bg-color: #3B4455;\n",
              "      --disabled-fill-color: #666;\n",
              "  }\n",
              "\n",
              "  .colab-df-quickchart {\n",
              "    background-color: var(--bg-color);\n",
              "    border: none;\n",
              "    border-radius: 50%;\n",
              "    cursor: pointer;\n",
              "    display: none;\n",
              "    fill: var(--fill-color);\n",
              "    height: 32px;\n",
              "    padding: 0;\n",
              "    width: 32px;\n",
              "  }\n",
              "\n",
              "  .colab-df-quickchart:hover {\n",
              "    background-color: var(--hover-bg-color);\n",
              "    box-shadow: 0 1px 2px rgba(60, 64, 67, 0.3), 0 1px 3px 1px rgba(60, 64, 67, 0.15);\n",
              "    fill: var(--button-hover-fill-color);\n",
              "  }\n",
              "\n",
              "  .colab-df-quickchart-complete:disabled,\n",
              "  .colab-df-quickchart-complete:disabled:hover {\n",
              "    background-color: var(--disabled-bg-color);\n",
              "    fill: var(--disabled-fill-color);\n",
              "    box-shadow: none;\n",
              "  }\n",
              "\n",
              "  .colab-df-spinner {\n",
              "    border: 2px solid var(--fill-color);\n",
              "    border-color: transparent;\n",
              "    border-bottom-color: var(--fill-color);\n",
              "    animation:\n",
              "      spin 1s steps(1) infinite;\n",
              "  }\n",
              "\n",
              "  @keyframes spin {\n",
              "    0% {\n",
              "      border-color: transparent;\n",
              "      border-bottom-color: var(--fill-color);\n",
              "      border-left-color: var(--fill-color);\n",
              "    }\n",
              "    20% {\n",
              "      border-color: transparent;\n",
              "      border-left-color: var(--fill-color);\n",
              "      border-top-color: var(--fill-color);\n",
              "    }\n",
              "    30% {\n",
              "      border-color: transparent;\n",
              "      border-left-color: var(--fill-color);\n",
              "      border-top-color: var(--fill-color);\n",
              "      border-right-color: var(--fill-color);\n",
              "    }\n",
              "    40% {\n",
              "      border-color: transparent;\n",
              "      border-right-color: var(--fill-color);\n",
              "      border-top-color: var(--fill-color);\n",
              "    }\n",
              "    60% {\n",
              "      border-color: transparent;\n",
              "      border-right-color: var(--fill-color);\n",
              "    }\n",
              "    80% {\n",
              "      border-color: transparent;\n",
              "      border-right-color: var(--fill-color);\n",
              "      border-bottom-color: var(--fill-color);\n",
              "    }\n",
              "    90% {\n",
              "      border-color: transparent;\n",
              "      border-bottom-color: var(--fill-color);\n",
              "    }\n",
              "  }\n",
              "</style>\n",
              "\n",
              "  <script>\n",
              "    async function quickchart(key) {\n",
              "      const quickchartButtonEl =\n",
              "        document.querySelector('#' + key + ' button');\n",
              "      quickchartButtonEl.disabled = true;  // To prevent multiple clicks.\n",
              "      quickchartButtonEl.classList.add('colab-df-spinner');\n",
              "      try {\n",
              "        const charts = await google.colab.kernel.invokeFunction(\n",
              "            'suggestCharts', [key], {});\n",
              "      } catch (error) {\n",
              "        console.error('Error during call to suggestCharts:', error);\n",
              "      }\n",
              "      quickchartButtonEl.classList.remove('colab-df-spinner');\n",
              "      quickchartButtonEl.classList.add('colab-df-quickchart-complete');\n",
              "    }\n",
              "    (() => {\n",
              "      let quickchartButtonEl =\n",
              "        document.querySelector('#df-a2cb2e1f-90e2-4566-ad95-5b0323e4e9f5 button');\n",
              "      quickchartButtonEl.style.display =\n",
              "        google.colab.kernel.accessAllowed ? 'block' : 'none';\n",
              "    })();\n",
              "  </script>\n",
              "</div>\n",
              "    </div>\n",
              "  </div>\n"
            ],
            "application/vnd.google.colaboratory.intrinsic+json": {
              "type": "dataframe",
              "variable_name": "df",
              "summary": "{\n  \"name\": \"df\",\n  \"rows\": 904,\n  \"fields\": [\n    {\n      \"column\": \"Unnamed: 0\",\n      \"properties\": {\n        \"dtype\": \"number\",\n        \"std\": 261,\n        \"min\": 1,\n        \"max\": 904,\n        \"num_unique_values\": 904,\n        \"samples\": [\n          71,\n          458,\n          219\n        ],\n        \"semantic_type\": \"\",\n        \"description\": \"\"\n      }\n    },\n    {\n      \"column\": \"date\",\n      \"properties\": {\n        \"dtype\": \"date\",\n        \"min\": \"2021-02-14 00:00:00\",\n        \"max\": \"2024-02-29 00:00:00\",\n        \"num_unique_values\": 904,\n        \"samples\": [\n          \"2021-05-10 00:00:00\",\n          \"2022-08-22 00:00:00\",\n          \"2021-10-10 00:00:00\"\n        ],\n        \"semantic_type\": \"\",\n        \"description\": \"\"\n      }\n    },\n    {\n      \"column\": \"pm25\",\n      \"properties\": {\n        \"dtype\": \"number\",\n        \"std\": 13,\n        \"min\": 1,\n        \"max\": 194,\n        \"num_unique_values\": 68,\n        \"samples\": [\n          12,\n          41,\n          37\n        ],\n        \"semantic_type\": \"\",\n        \"description\": \"\"\n      }\n    },\n    {\n      \"column\": \"pm10\",\n      \"properties\": {\n        \"dtype\": \"number\",\n        \"std\": 25,\n        \"min\": 1,\n        \"max\": 500,\n        \"num_unique_values\": 82,\n        \"samples\": [\n          58,\n          6,\n          38\n        ],\n        \"semantic_type\": \"\",\n        \"description\": \"\"\n      }\n    },\n    {\n      \"column\": \"o3\",\n      \"properties\": {\n        \"dtype\": \"number\",\n        \"std\": 8,\n        \"min\": 1,\n        \"max\": 89,\n        \"num_unique_values\": 47,\n        \"samples\": [\n          17,\n          30,\n          7\n        ],\n        \"semantic_type\": \"\",\n        \"description\": \"\"\n      }\n    },\n    {\n      \"column\": \"no2\",\n      \"properties\": {\n        \"dtype\": \"number\",\n        \"std\": 5,\n        \"min\": 1,\n        \"max\": 31,\n        \"num_unique_values\": 29,\n        \"samples\": [\n          27,\n          1,\n          14\n        ],\n        \"semantic_type\": \"\",\n        \"description\": \"\"\n      }\n    },\n    {\n      \"column\": \"so2\",\n      \"properties\": {\n        \"dtype\": \"number\",\n        \"std\": 3,\n        \"min\": 1,\n        \"max\": 42,\n        \"num_unique_values\": 20,\n        \"samples\": [\n          12,\n          18,\n          23\n        ],\n        \"semantic_type\": \"\",\n        \"description\": \"\"\n      }\n    },\n    {\n      \"column\": \"co\",\n      \"properties\": {\n        \"dtype\": \"number\",\n        \"std\": 1,\n        \"min\": 1,\n        \"max\": 11,\n        \"num_unique_values\": 9,\n        \"samples\": [\n          11,\n          6,\n          3\n        ],\n        \"semantic_type\": \"\",\n        \"description\": \"\"\n      }\n    },\n    {\n      \"column\": \"AQI\",\n      \"properties\": {\n        \"dtype\": \"number\",\n        \"std\": 25,\n        \"min\": 5,\n        \"max\": 500,\n        \"num_unique_values\": 81,\n        \"samples\": [\n          45,\n          28,\n          53\n        ],\n        \"semantic_type\": \"\",\n        \"description\": \"\"\n      }\n    }\n  ]\n}"
            }
          },
          "metadata": {},
          "execution_count": 28
        }
      ]
    },
    {
      "cell_type": "code",
      "source": [
        "train_size = int(0.7 * len(df))\n",
        "test_size = len(df) - train_size\n",
        "\n",
        "train_data = df[:train_size]\n",
        "test_data = df[train_size:]\n",
        "\n"
      ],
      "metadata": {
        "id": "vdKmcl2Iv58s"
      },
      "execution_count": 20,
      "outputs": []
    },
    {
      "cell_type": "code",
      "source": [
        "X_train = train_data['Unnamed: 0']\n",
        "X_test = test_data['Unnamed: 0']\n",
        "y_train = train_data['AQI']\n",
        "y_test = test_data['AQI']\n",
        "\n",
        "X_test"
      ],
      "metadata": {
        "colab": {
          "base_uri": "https://localhost:8080/"
        },
        "id": "-iGDc6yjwvOC",
        "outputId": "957c138f-02ba-4d6f-985a-152cee3d3fe0"
      },
      "execution_count": 21,
      "outputs": [
        {
          "output_type": "execute_result",
          "data": {
            "text/plain": [
              "632    633\n",
              "633    634\n",
              "634    635\n",
              "635    636\n",
              "636    637\n",
              "      ... \n",
              "899    900\n",
              "900    901\n",
              "901    902\n",
              "902    903\n",
              "903    904\n",
              "Name: Unnamed: 0, Length: 272, dtype: int64"
            ]
          },
          "metadata": {},
          "execution_count": 21
        }
      ]
    },
    {
      "cell_type": "code",
      "source": [
        "import numpy as np\n",
        "import matplotlib.pyplot as plt\n",
        "\n",
        "def f(x, c0, c1, c2, c3, c4):\n",
        "    return c0 * x**3 + c1 * x**2 + c2 * x + c3 + c4 * np.sin(x)\n",
        "\n",
        "\n",
        "\n",
        "# Define the Jacobian matrix of partial derivatives for the polynomial function\n",
        "def jacobian(x, c0, c1, c2, c3, c4):\n",
        "    J = np.empty((x.size, 5))\n",
        "    J[:, 0] = x**3  # Derivative with respect to c0\n",
        "    J[:, 1] = x**2  # Derivative with respect to c1\n",
        "    J[:, 2] = x     # Derivative with respect to c2\n",
        "    J[:, 3] = 1     # Derivative with respect to c3\n",
        "    J[:, 4] = np.sin(x)  # Derivative with respect to c4\n",
        "    return J\n",
        "\n",
        "# Gauss-Newton optimization\n",
        "def Gauss_Newton(f, jacobian, X, y, initial_params, tol, max_iter):\n",
        "    params = np.array(initial_params)\n",
        "    for i in range(max_iter):\n",
        "        residuals = y - f(X, *params)\n",
        "        J = jacobian(X, *params)\n",
        "        delta = np.linalg.lstsq(J, residuals, rcond=None)[0]\n",
        "        params += delta\n",
        "        if np.linalg.norm(delta) < tol:\n",
        "            break\n",
        "    return params\n",
        "\n",
        "\n",
        "\n",
        "# Initial guess for the parameters\n",
        "initial_params = [1.0, 1.0, 1.0, 1.0, 1.0]\n",
        "tol = 1e-6\n",
        "max_iter = 100\n",
        "\n",
        "# Perform the Gauss-Newton optimization\n",
        "estimated_parameters = Gauss_Newton(f, jacobian, X_train, y_train, initial_params, tol, max_iter)\n",
        "\n",
        "estimated_parameters"
      ],
      "metadata": {
        "colab": {
          "base_uri": "https://localhost:8080/"
        },
        "id": "6H0Cp3aS6IVq",
        "outputId": "df16b8b8-bea9-4c7f-c991-25fd972ee2cd"
      },
      "execution_count": 22,
      "outputs": [
        {
          "output_type": "execute_result",
          "data": {
            "text/plain": [
              "array([-6.60610838e-07,  6.24156795e-04, -1.84675357e-01,  5.11257293e+01,\n",
              "        7.08174006e-01])"
            ]
          },
          "metadata": {},
          "execution_count": 22
        }
      ]
    },
    {
      "cell_type": "code",
      "source": [
        "# Calculate y_pred using the estimated parameters\n",
        "y_pred = f(X_test, *estimated_parameters)"
      ],
      "metadata": {
        "id": "aVwEhiwc1sOO"
      },
      "execution_count": 23,
      "outputs": []
    },
    {
      "cell_type": "code",
      "source": [
        "def calculate_errors(y_true, y_pred):\n",
        "    MAE = np.mean(np.abs(y_true - y_pred))\n",
        "    MAPE = np.mean(np.abs((y_true - y_pred) / (y_true + np.finfo(float).eps))) * 100\n",
        "    RMSE = np.sqrt(np.mean((y_true - y_pred)**2))\n",
        "\n",
        "    return MAE, MAPE, RMSE\n",
        "\n",
        "y_pred = f(X_test, *estimated_parameters)\n",
        "\n",
        "MAE, MAPE, RMSE = calculate_errors(y_test, y_pred)\n",
        "\n",
        "print(\"Mean Absolute Error (MAE):\", MAE)\n",
        "print(\"Mean Absolute Percentage Error (MAPE):\", MAPE)\n",
        "print(\"Root Mean Square Error (RMSE):\", RMSE)\n",
        "\n"
      ],
      "metadata": {
        "id": "sZzePcUh7vo4",
        "colab": {
          "base_uri": "https://localhost:8080/"
        },
        "outputId": "ef9522bd-89cc-427c-8497-bb118ec5409b"
      },
      "execution_count": 24,
      "outputs": [
        {
          "output_type": "stream",
          "name": "stdout",
          "text": [
            "Mean Absolute Error (MAE): 55.82363623535914\n",
            "Mean Absolute Percentage Error (MAPE): 261.5393055615606\n",
            "Root Mean Square Error (RMSE): 72.26275097443327\n"
          ]
        }
      ]
    },
    {
      "cell_type": "code",
      "source": [
        "# Print estimated parameters and plot the results\n",
        "print(\"Estimated parameters:\", estimated_parameters)\n",
        "\n",
        "plt.figure(figsize=(10, 5))\n",
        "plt.plot(X_train, y_train, 'bo', label='Training data')\n",
        "plt.plot(X_test, y_test, 'ro', label='Test data')\n",
        "plt.plot(X_test, y_pred, 'g-', label='Predicted data')\n",
        "plt.xlabel('Date Number')\n",
        "plt.ylabel('AQI')\n",
        "plt.legend()\n",
        "plt.show()\n",
        "\n"
      ],
      "metadata": {
        "colab": {
          "base_uri": "https://localhost:8080/",
          "height": 502
        },
        "id": "KZR9vaV6yXEA",
        "outputId": "7d67e214-f8cd-4ed1-fe41-48b2e52f2c4c"
      },
      "execution_count": 25,
      "outputs": [
        {
          "output_type": "stream",
          "name": "stdout",
          "text": [
            "Estimated parameters: [-6.60610838e-07  6.24156795e-04 -1.84675357e-01  5.11257293e+01\n",
            "  7.08174006e-01]\n"
          ]
        },
        {
          "output_type": "display_data",
          "data": {
            "text/plain": [
              "<Figure size 1000x500 with 1 Axes>"
            ],
            "image/png": "[encoded data removed]"
          },
          "metadata": {}
        }
      ]
    },
    {
      "cell_type": "code",
      "source": [
        "last_value = X_test.iloc[-1]\n",
        "start_index_day = last_value + 1"
      ],
      "metadata": {
        "id": "4QMdP6Vh29AS"
      },
      "execution_count": 26,
      "outputs": []
    },
    {
      "cell_type": "code",
      "source": [
        "\n",
        "start_index_day = last_value + 1\n",
        "\n",
        "X_predict_30 = pd.Series(range(start_index_day, start_index_day + 30))\n",
        "X_predict_60 = pd.Series(range(start_index_day, start_index_day + 60))\n",
        "X_predict_90 = pd.Series(range(start_index_day, start_index_day + 90))\n",
        "\n",
        "# Assuming you have a function to make predictions based on your model\n",
        "y_pred_60 = f(X_predict_60, *estimated_parameters)\n",
        "y_pred_90 = f(X_predict_90, *estimated_parameters)\n",
        "y_pred_30 = f(X_predict_30, *estimated_parameters)\n",
        "# Now, plot the results\n",
        "plt.figure(figsize=(15, 5))\n",
        "\n",
        "# Plot for 30 days\n",
        "plt.subplot(1, 3, 1)\n",
        "plt.plot(X_train, y_train, 'bo', label='Training data')\n",
        "plt.plot(X_test, y_test, 'ro', label='Test data')\n",
        "plt.plot(X_test, y_pred, 'g-', label='Predicted data')\n",
        "plt.plot(X_predict_30, y_pred_30, 'b-', label='Predicted data 30 days')\n",
        "plt.title('30 Days Prediction')\n",
        "plt.xlabel('Date Number')\n",
        "plt.ylabel('AQI')\n",
        "plt.legend()\n",
        "\n",
        "# Plot for 60 days\n",
        "plt.subplot(1, 3, 2)\n",
        "plt.plot(X_train, y_train, 'bo', label='Training data')\n",
        "plt.plot(X_test, y_test, 'ro', label='Test data')\n",
        "plt.plot(X_test, y_pred, 'g-', label='Predicted data')\n",
        "plt.plot(X_predict_60, y_pred_60, 'b-', label='Predicted data 60 days')\n",
        "plt.title('60 Days Prediction')\n",
        "plt.xlabel('Date Number')\n",
        "plt.ylabel('AQI')\n",
        "plt.legend()\n",
        "\n",
        "# Plot for 90 days\n",
        "plt.subplot(1, 3, 3)\n",
        "plt.plot(X_train, y_train, 'bo', label='Training data')\n",
        "plt.plot(X_test, y_test, 'ro', label='Test data')\n",
        "plt.plot(X_test, y_pred, 'g-', label='Predicted data')\n",
        "plt.plot(X_predict_90, y_pred_90, 'b-', label='Predicted data 90 days')\n",
        "plt.title('90 Days Prediction')\n",
        "plt.xlabel('Date Number')\n",
        "plt.ylabel('AQI')\n",
        "plt.legend()\n",
        "\n",
        "plt.tight_layout()\n",
        "plt.show()\n"
      ],
      "metadata": {
        "colab": {
          "base_uri": "https://localhost:8080/",
          "height": 452
        },
        "id": "zEgItN6v4g2H",
        "outputId": "265efbcb-fc4e-40ad-81a8-8bec6100c67a"
      },
      "execution_count": 27,
      "outputs": [
        {
          "output_type": "display_data",
          "data": {
            "text/plain": [
              "<Figure size 1500x500 with 3 Axes>"
            ],
            "image/png": "[encoded data removed]"
          },
          "metadata": {}
        }
      ]
    },
    {
      "cell_type": "code",
      "source": [],
      "metadata": {
        "id": "Iy0Oj9Cc5ypO"
      },
      "execution_count": 27,
      "outputs": []
    }
  ]
}