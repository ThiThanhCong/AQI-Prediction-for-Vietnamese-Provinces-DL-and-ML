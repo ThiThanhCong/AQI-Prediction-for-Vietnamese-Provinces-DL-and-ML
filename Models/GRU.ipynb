{
  "nbformat": 4,
  "nbformat_minor": 0,
  "metadata": {
    "colab": {
      "provenance": []
    },
    "kernelspec": {
      "name": "python3",
      "display_name": "Python 3"
    },
    "language_info": {
      "name": "python"
    }
  },
  "cells": [
    {
      "cell_type": "code",
      "execution_count": null,
      "metadata": {
        "colab": {
          "base_uri": "https://localhost:8080/"
        },
        "id": "6U1xfbpmll6J",
        "outputId": "77c92b5e-cf3d-4d88-b240-7151eb2a7f7b"
      },
      "outputs": [
        {
          "output_type": "stream",
          "name": "stdout",
          "text": [
            "Mounted at /content/drive\n"
          ]
        }
      ],
      "source": [
        "# 1. Import thư viện cần thiết\n",
        "from google.colab import drive\n",
        "drive.mount('/content/drive')\n"
      ]
    },
    {
      "cell_type": "code",
      "source": [
        "import numpy as np\n",
        "import pandas as pd\n",
        "import matplotlib.pyplot as plt\n",
        "from sklearn.preprocessing import MinMaxScaler\n",
        "from keras.models import Sequential\n",
        "from keras.layers import Dense, GRU"
      ],
      "metadata": {
        "id": "lpv7nsLrlohl"
      },
      "execution_count": 48,
      "outputs": []
    },
    {
      "cell_type": "code",
      "source": [
        "# 2. Đọc file csv và gắng index với giá Close\n",
        "df = pd.read_csv('/content/drive/MyDrive/Dataset/HaNoi.csv')\n",
        "df.head()"
      ],
      "metadata": {
        "colab": {
          "base_uri": "https://localhost:8080/",
          "height": 206
        },
        "id": "MQwDSPoamWLf",
        "outputId": "d36e77d3-b244-44a9-e50c-756fc37169cc"
      },
      "execution_count": 49,
      "outputs": [
        {
          "output_type": "execute_result",
          "data": {
            "text/plain": [
              "   dateNumber      date  pm25  pm10  o3  no2  so2  co  AQI\n",
              "0           1  1/1/2014    95   124  22   40    6  28  124\n",
              "1           2  1/2/2014   186   144  69   39    8  43  186\n",
              "2           3  1/3/2014   227   151  24   25   12  28  227\n",
              "3           4  1/4/2014   253    48  13   19   12  14  253\n",
              "4           5  1/5/2014    95   115  65   35    5  33  115"
            ],
            "text/html": [
              "\n",
              "  <div id=\"df-82cb574a-7b06-4227-bebd-38fbad4ae917\" class=\"colab-df-container\">\n",
              "    <div>\n",
              "<style scoped>\n",
              "    .dataframe tbody tr th:only-of-type {\n",
              "        vertical-align: middle;\n",
              "    }\n",
              "\n",
              "    .dataframe tbody tr th {\n",
              "        vertical-align: top;\n",
              "    }\n",
              "\n",
              "    .dataframe thead th {\n",
              "        text-align: right;\n",
              "    }\n",
              "</style>\n",
              "<table border=\"1\" class=\"dataframe\">\n",
              "  <thead>\n",
              "    <tr style=\"text-align: right;\">\n",
              "      <th></th>\n",
              "      <th>dateNumber</th>\n",
              "      <th>date</th>\n",
              "      <th>pm25</th>\n",
              "      <th>pm10</th>\n",
              "      <th>o3</th>\n",
              "      <th>no2</th>\n",
              "      <th>so2</th>\n",
              "      <th>co</th>\n",
              "      <th>AQI</th>\n",
              "    </tr>\n",
              "  </thead>\n",
              "  <tbody>\n",
              "    <tr>\n",
              "      <th>0</th>\n",
              "      <td>1</td>\n",
              "      <td>1/1/2014</td>\n",
              "      <td>95</td>\n",
              "      <td>124</td>\n",
              "      <td>22</td>\n",
              "      <td>40</td>\n",
              "      <td>6</td>\n",
              "      <td>28</td>\n",
              "      <td>124</td>\n",
              "    </tr>\n",
              "    <tr>\n",
              "      <th>1</th>\n",
              "      <td>2</td>\n",
              "      <td>1/2/2014</td>\n",
              "      <td>186</td>\n",
              "      <td>144</td>\n",
              "      <td>69</td>\n",
              "      <td>39</td>\n",
              "      <td>8</td>\n",
              "      <td>43</td>\n",
              "      <td>186</td>\n",
              "    </tr>\n",
              "    <tr>\n",
              "      <th>2</th>\n",
              "      <td>3</td>\n",
              "      <td>1/3/2014</td>\n",
              "      <td>227</td>\n",
              "      <td>151</td>\n",
              "      <td>24</td>\n",
              "      <td>25</td>\n",
              "      <td>12</td>\n",
              "      <td>28</td>\n",
              "      <td>227</td>\n",
              "    </tr>\n",
              "    <tr>\n",
              "      <th>3</th>\n",
              "      <td>4</td>\n",
              "      <td>1/4/2014</td>\n",
              "      <td>253</td>\n",
              "      <td>48</td>\n",
              "      <td>13</td>\n",
              "      <td>19</td>\n",
              "      <td>12</td>\n",
              "      <td>14</td>\n",
              "      <td>253</td>\n",
              "    </tr>\n",
              "    <tr>\n",
              "      <th>4</th>\n",
              "      <td>5</td>\n",
              "      <td>1/5/2014</td>\n",
              "      <td>95</td>\n",
              "      <td>115</td>\n",
              "      <td>65</td>\n",
              "      <td>35</td>\n",
              "      <td>5</td>\n",
              "      <td>33</td>\n",
              "      <td>115</td>\n",
              "    </tr>\n",
              "  </tbody>\n",
              "</table>\n",
              "</div>\n",
              "    <div class=\"colab-df-buttons\">\n",
              "\n",
              "  <div class=\"colab-df-container\">\n",
              "    <button class=\"colab-df-convert\" onclick=\"convertToInteractive('df-82cb574a-7b06-4227-bebd-38fbad4ae917')\"\n",
              "            title=\"Convert this dataframe to an interactive table.\"\n",
              "            style=\"display:none;\">\n",
              "\n",
              "  <svg xmlns=\"http://www.w3.org/2000/svg\" height=\"24px\" viewBox=\"0 -960 960 960\">\n",
              "    <path d=\"M120-120v-720h720v720H120Zm60-500h600v-160H180v160Zm220 220h160v-160H400v160Zm0 220h160v-160H400v160ZM180-400h160v-160H180v160Zm440 0h160v-160H620v160ZM180-180h160v-160H180v160Zm440 0h160v-160H620v160Z\"/>\n",
              "  </svg>\n",
              "    </button>\n",
              "\n",
              "  <style>\n",
              "    .colab-df-container {\n",
              "      display:flex;\n",
              "      gap: 12px;\n",
              "    }\n",
              "\n",
              "    .colab-df-convert {\n",
              "      background-color: #E8F0FE;\n",
              "      border: none;\n",
              "      border-radius: 50%;\n",
              "      cursor: pointer;\n",
              "      display: none;\n",
              "      fill: #1967D2;\n",
              "      height: 32px;\n",
              "      padding: 0 0 0 0;\n",
              "      width: 32px;\n",
              "    }\n",
              "\n",
              "    .colab-df-convert:hover {\n",
              "      background-color: #E2EBFA;\n",
              "      box-shadow: 0px 1px 2px rgba(60, 64, 67, 0.3), 0px 1px 3px 1px rgba(60, 64, 67, 0.15);\n",
              "      fill: #174EA6;\n",
              "    }\n",
              "\n",
              "    .colab-df-buttons div {\n",
              "      margin-bottom: 4px;\n",
              "    }\n",
              "\n",
              "    [theme=dark] .colab-df-convert {\n",
              "      background-color: #3B4455;\n",
              "      fill: #D2E3FC;\n",
              "    }\n",
              "\n",
              "    [theme=dark] .colab-df-convert:hover {\n",
              "      background-color: #434B5C;\n",
              "      box-shadow: 0px 1px 3px 1px rgba(0, 0, 0, 0.15);\n",
              "      filter: drop-shadow(0px 1px 2px rgba(0, 0, 0, 0.3));\n",
              "      fill: #FFFFFF;\n",
              "    }\n",
              "  </style>\n",
              "\n",
              "    <script>\n",
              "      const buttonEl =\n",
              "        document.querySelector('#df-82cb574a-7b06-4227-bebd-38fbad4ae917 button.colab-df-convert');\n",
              "      buttonEl.style.display =\n",
              "        google.colab.kernel.accessAllowed ? 'block' : 'none';\n",
              "\n",
              "      async function convertToInteractive(key) {\n",
              "        const element = document.querySelector('#df-82cb574a-7b06-4227-bebd-38fbad4ae917');\n",
              "        const dataTable =\n",
              "          await google.colab.kernel.invokeFunction('convertToInteractive',\n",
              "                                                    [key], {});\n",
              "        if (!dataTable) return;\n",
              "\n",
              "        const docLinkHtml = 'Like what you see? Visit the ' +\n",
              "          '<a target=\"_blank\" href=https://colab.research.google.com/notebooks/data_table.ipynb>data table notebook</a>'\n",
              "          + ' to learn more about interactive tables.';\n",
              "        element.innerHTML = '';\n",
              "        dataTable['output_type'] = 'display_data';\n",
              "        await google.colab.output.renderOutput(dataTable, element);\n",
              "        const docLink = document.createElement('div');\n",
              "        docLink.innerHTML = docLinkHtml;\n",
              "        element.appendChild(docLink);\n",
              "      }\n",
              "    </script>\n",
              "  </div>\n",
              "\n",
              "\n",
              "<div id=\"df-f94d681d-1f6b-4015-b984-15897f3b088d\">\n",
              "  <button class=\"colab-df-quickchart\" onclick=\"quickchart('df-f94d681d-1f6b-4015-b984-15897f3b088d')\"\n",
              "            title=\"Suggest charts\"\n",
              "            style=\"display:none;\">\n",
              "\n",
              "<svg xmlns=\"http://www.w3.org/2000/svg\" height=\"24px\"viewBox=\"0 0 24 24\"\n",
              "     width=\"24px\">\n",
              "    <g>\n",
              "        <path d=\"M19 3H5c-1.1 0-2 .9-2 2v14c0 1.1.9 2 2 2h14c1.1 0 2-.9 2-2V5c0-1.1-.9-2-2-2zM9 17H7v-7h2v7zm4 0h-2V7h2v10zm4 0h-2v-4h2v4z\"/>\n",
              "    </g>\n",
              "</svg>\n",
              "  </button>\n",
              "\n",
              "<style>\n",
              "  .colab-df-quickchart {\n",
              "      --bg-color: #E8F0FE;\n",
              "      --fill-color: #1967D2;\n",
              "      --hover-bg-color: #E2EBFA;\n",
              "      --hover-fill-color: #174EA6;\n",
              "      --disabled-fill-color: #AAA;\n",
              "      --disabled-bg-color: #DDD;\n",
              "  }\n",
              "\n",
              "  [theme=dark] .colab-df-quickchart {\n",
              "      --bg-color: #3B4455;\n",
              "      --fill-color: #D2E3FC;\n",
              "      --hover-bg-color: #434B5C;\n",
              "      --hover-fill-color: #FFFFFF;\n",
              "      --disabled-bg-color: #3B4455;\n",
              "      --disabled-fill-color: #666;\n",
              "  }\n",
              "\n",
              "  .colab-df-quickchart {\n",
              "    background-color: var(--bg-color);\n",
              "    border: none;\n",
              "    border-radius: 50%;\n",
              "    cursor: pointer;\n",
              "    display: none;\n",
              "    fill: var(--fill-color);\n",
              "    height: 32px;\n",
              "    padding: 0;\n",
              "    width: 32px;\n",
              "  }\n",
              "\n",
              "  .colab-df-quickchart:hover {\n",
              "    background-color: var(--hover-bg-color);\n",
              "    box-shadow: 0 1px 2px rgba(60, 64, 67, 0.3), 0 1px 3px 1px rgba(60, 64, 67, 0.15);\n",
              "    fill: var(--button-hover-fill-color);\n",
              "  }\n",
              "\n",
              "  .colab-df-quickchart-complete:disabled,\n",
              "  .colab-df-quickchart-complete:disabled:hover {\n",
              "    background-color: var(--disabled-bg-color);\n",
              "    fill: var(--disabled-fill-color);\n",
              "    box-shadow: none;\n",
              "  }\n",
              "\n",
              "  .colab-df-spinner {\n",
              "    border: 2px solid var(--fill-color);\n",
              "    border-color: transparent;\n",
              "    border-bottom-color: var(--fill-color);\n",
              "    animation:\n",
              "      spin 1s steps(1) infinite;\n",
              "  }\n",
              "\n",
              "  @keyframes spin {\n",
              "    0% {\n",
              "      border-color: transparent;\n",
              "      border-bottom-color: var(--fill-color);\n",
              "      border-left-color: var(--fill-color);\n",
              "    }\n",
              "    20% {\n",
              "      border-color: transparent;\n",
              "      border-left-color: var(--fill-color);\n",
              "      border-top-color: var(--fill-color);\n",
              "    }\n",
              "    30% {\n",
              "      border-color: transparent;\n",
              "      border-left-color: var(--fill-color);\n",
              "      border-top-color: var(--fill-color);\n",
              "      border-right-color: var(--fill-color);\n",
              "    }\n",
              "    40% {\n",
              "      border-color: transparent;\n",
              "      border-right-color: var(--fill-color);\n",
              "      border-top-color: var(--fill-color);\n",
              "    }\n",
              "    60% {\n",
              "      border-color: transparent;\n",
              "      border-right-color: var(--fill-color);\n",
              "    }\n",
              "    80% {\n",
              "      border-color: transparent;\n",
              "      border-right-color: var(--fill-color);\n",
              "      border-bottom-color: var(--fill-color);\n",
              "    }\n",
              "    90% {\n",
              "      border-color: transparent;\n",
              "      border-bottom-color: var(--fill-color);\n",
              "    }\n",
              "  }\n",
              "</style>\n",
              "\n",
              "  <script>\n",
              "    async function quickchart(key) {\n",
              "      const quickchartButtonEl =\n",
              "        document.querySelector('#' + key + ' button');\n",
              "      quickchartButtonEl.disabled = true;  // To prevent multiple clicks.\n",
              "      quickchartButtonEl.classList.add('colab-df-spinner');\n",
              "      try {\n",
              "        const charts = await google.colab.kernel.invokeFunction(\n",
              "            'suggestCharts', [key], {});\n",
              "      } catch (error) {\n",
              "        console.error('Error during call to suggestCharts:', error);\n",
              "      }\n",
              "      quickchartButtonEl.classList.remove('colab-df-spinner');\n",
              "      quickchartButtonEl.classList.add('colab-df-quickchart-complete');\n",
              "    }\n",
              "    (() => {\n",
              "      let quickchartButtonEl =\n",
              "        document.querySelector('#df-f94d681d-1f6b-4015-b984-15897f3b088d button');\n",
              "      quickchartButtonEl.style.display =\n",
              "        google.colab.kernel.accessAllowed ? 'block' : 'none';\n",
              "    })();\n",
              "  </script>\n",
              "</div>\n",
              "    </div>\n",
              "  </div>\n"
            ],
            "application/vnd.google.colaboratory.intrinsic+json": {
              "type": "dataframe",
              "variable_name": "df",
              "summary": "{\n  \"name\": \"df\",\n  \"rows\": 2779,\n  \"fields\": [\n    {\n      \"column\": \"dateNumber\",\n      \"properties\": {\n        \"dtype\": \"number\",\n        \"std\": 802,\n        \"min\": 1,\n        \"max\": 2779,\n        \"num_unique_values\": 2779,\n        \"samples\": [\n          1562,\n          1100,\n          1456\n        ],\n        \"semantic_type\": \"\",\n        \"description\": \"\"\n      }\n    },\n    {\n      \"column\": \"date\",\n      \"properties\": {\n        \"dtype\": \"object\",\n        \"num_unique_values\": 2779,\n        \"samples\": [\n          \"10/7/2020\",\n          \"6/11/2019\",\n          \"6/23/2020\"\n        ],\n        \"semantic_type\": \"\",\n        \"description\": \"\"\n      }\n    },\n    {\n      \"column\": \"pm25\",\n      \"properties\": {\n        \"dtype\": \"number\",\n        \"std\": 42,\n        \"min\": 2,\n        \"max\": 299,\n        \"num_unique_values\": 201,\n        \"samples\": [\n          80,\n          191,\n          81\n        ],\n        \"semantic_type\": \"\",\n        \"description\": \"\"\n      }\n    },\n    {\n      \"column\": \"pm10\",\n      \"properties\": {\n        \"dtype\": \"number\",\n        \"std\": 21,\n        \"min\": 1,\n        \"max\": 187,\n        \"num_unique_values\": 121,\n        \"samples\": [\n          83,\n          52,\n          115\n        ],\n        \"semantic_type\": \"\",\n        \"description\": \"\"\n      }\n    },\n    {\n      \"column\": \"o3\",\n      \"properties\": {\n        \"dtype\": \"number\",\n        \"std\": 22,\n        \"min\": 1,\n        \"max\": 498,\n        \"num_unique_values\": 116,\n        \"samples\": [\n          156,\n          65,\n          30\n        ],\n        \"semantic_type\": \"\",\n        \"description\": \"\"\n      }\n    },\n    {\n      \"column\": \"no2\",\n      \"properties\": {\n        \"dtype\": \"number\",\n        \"std\": 9,\n        \"min\": 1,\n        \"max\": 75,\n        \"num_unique_values\": 59,\n        \"samples\": [\n          40,\n          30,\n          10\n        ],\n        \"semantic_type\": \"\",\n        \"description\": \"\"\n      }\n    },\n    {\n      \"column\": \"so2\",\n      \"properties\": {\n        \"dtype\": \"number\",\n        \"std\": 7,\n        \"min\": 1,\n        \"max\": 52,\n        \"num_unique_values\": 48,\n        \"samples\": [\n          36,\n          45,\n          37\n        ],\n        \"semantic_type\": \"\",\n        \"description\": \"\"\n      }\n    },\n    {\n      \"column\": \"co\",\n      \"properties\": {\n        \"dtype\": \"number\",\n        \"std\": 9,\n        \"min\": 1,\n        \"max\": 102,\n        \"num_unique_values\": 67,\n        \"samples\": [\n          38,\n          26,\n          27\n        ],\n        \"semantic_type\": \"\",\n        \"description\": \"\"\n      }\n    },\n    {\n      \"column\": \"AQI\",\n      \"properties\": {\n        \"dtype\": \"number\",\n        \"std\": 42,\n        \"min\": 11,\n        \"max\": 498,\n        \"num_unique_values\": 195,\n        \"samples\": [\n          77,\n          191,\n          144\n        ],\n        \"semantic_type\": \"\",\n        \"description\": \"\"\n      }\n    }\n  ]\n}"
            }
          },
          "metadata": {},
          "execution_count": 49
        }
      ]
    },
    {
      "cell_type": "code",
      "source": [
        "df1=df.reset_index()['AQI']"
      ],
      "metadata": {
        "id": "cGFFnpbbmath"
      },
      "execution_count": 50,
      "outputs": []
    },
    {
      "cell_type": "code",
      "source": [
        "# 3. Scaler data\n",
        "scaler=MinMaxScaler(feature_range=(0,1))\n",
        "df1=scaler.fit_transform(np.array(df1).reshape(-1,1))"
      ],
      "metadata": {
        "id": "0TMgm0O4muHC"
      },
      "execution_count": 51,
      "outputs": []
    },
    {
      "cell_type": "code",
      "source": [
        "# 4. Chia train test\n",
        "train_size = int(0.7 * len(df1))\n",
        "test_size = int(0.2 * len(df1))\n",
        "\n",
        "train_data = df1[:train_size]\n",
        "test_data = df1[train_size:train_size+test_size]\n"
      ],
      "metadata": {
        "id": "K5gWaO5Omvec"
      },
      "execution_count": 52,
      "outputs": []
    },
    {
      "cell_type": "code",
      "source": [
        "# 5. Hàm Create Dataset\n",
        "import numpy\n",
        "# convert an array of values into a dataset matrix\n",
        "def create_dataset(dataset, time_step=1):\n",
        "\tdataX, dataY = [], []\n",
        "\tfor i in range(len(dataset)-time_step-1):\n",
        "\t\ta = dataset[i:(i+time_step), 0]   ###i=0, X=0,1,2,3-----99   Y=100\n",
        "\t\tdataX.append(a)\n",
        "\t\tdataY.append(dataset[i + time_step, 0])\n",
        "\treturn numpy.array(dataX), numpy.array(dataY)"
      ],
      "metadata": {
        "id": "LjvTLKBRmxRg"
      },
      "execution_count": 53,
      "outputs": []
    },
    {
      "cell_type": "code",
      "source": [
        "#6. Reshape into X=t,t+1,t+2..t+99 and Y=t+100\n",
        "\n",
        "time_step = 100\n",
        "X_train, y_train = create_dataset(train_data, time_step)\n",
        "X_test, ytest = create_dataset(test_data, time_step)"
      ],
      "metadata": {
        "id": "asuNQHGCmzIA"
      },
      "execution_count": 54,
      "outputs": []
    },
    {
      "cell_type": "code",
      "source": [
        "# 7. Reshape input to be [samples, time steps, features] which is required for LSTM\n",
        "X_train =X_train.reshape(X_train.shape[0],X_train.shape[1] , 1)\n",
        "X_test = X_test.reshape(X_test.shape[0],X_test.shape[1] , 1)\n"
      ],
      "metadata": {
        "id": "MFuPZ29Km1F5"
      },
      "execution_count": 55,
      "outputs": []
    },
    {
      "cell_type": "code",
      "source": [
        "# 8. Define GRU Model\n",
        "\n",
        "model = Sequential()\n",
        "model.add(GRU(64, input_shape=(time_step, 1)))\n",
        "model.add(Dense(1))\n",
        "model.compile(optimizer='adam', loss='mean_squared_error')"
      ],
      "metadata": {
        "id": "BlUaDJ3Pm2e2"
      },
      "execution_count": 56,
      "outputs": []
    },
    {
      "cell_type": "code",
      "source": [
        "# 9. Fit mô hình với dữ liệu train\n",
        "model.fit(X_train,y_train,validation_data=(X_test,ytest),epochs=100,batch_size=64,verbose=1)"
      ],
      "metadata": {
        "colab": {
          "base_uri": "https://localhost:8080/"
        },
        "id": "ixSsBDAUm4CS",
        "outputId": "32a4011f-23de-4659-e31a-0b080f972011"
      },
      "execution_count": 57,
      "outputs": [
        {
          "output_type": "stream",
          "name": "stdout",
          "text": [
            "Epoch 1/100\n",
            "29/29 [==============================] - 4s 80ms/step - loss: 0.0070 - val_loss: 0.0037\n",
            "Epoch 2/100\n",
            "29/29 [==============================] - 2s 75ms/step - loss: 0.0042 - val_loss: 0.0029\n",
            "Epoch 3/100\n",
            "29/29 [==============================] - 3s 91ms/step - loss: 0.0038 - val_loss: 0.0026\n",
            "Epoch 4/100\n",
            "29/29 [==============================] - 2s 74ms/step - loss: 0.0037 - val_loss: 0.0025\n",
            "Epoch 5/100\n",
            "29/29 [==============================] - 2s 56ms/step - loss: 0.0036 - val_loss: 0.0024\n",
            "Epoch 6/100\n",
            "29/29 [==============================] - 2s 56ms/step - loss: 0.0035 - val_loss: 0.0023\n",
            "Epoch 7/100\n",
            "29/29 [==============================] - 2s 55ms/step - loss: 0.0034 - val_loss: 0.0022\n",
            "Epoch 8/100\n",
            "29/29 [==============================] - 2s 55ms/step - loss: 0.0034 - val_loss: 0.0023\n",
            "Epoch 9/100\n",
            "29/29 [==============================] - 2s 55ms/step - loss: 0.0033 - val_loss: 0.0021\n",
            "Epoch 10/100\n",
            "29/29 [==============================] - 2s 69ms/step - loss: 0.0033 - val_loss: 0.0020\n",
            "Epoch 11/100\n",
            "29/29 [==============================] - 4s 123ms/step - loss: 0.0033 - val_loss: 0.0021\n",
            "Epoch 12/100\n",
            "29/29 [==============================] - 3s 94ms/step - loss: 0.0032 - val_loss: 0.0021\n",
            "Epoch 13/100\n",
            "29/29 [==============================] - 2s 57ms/step - loss: 0.0033 - val_loss: 0.0020\n",
            "Epoch 14/100\n",
            "29/29 [==============================] - 2s 56ms/step - loss: 0.0032 - val_loss: 0.0019\n",
            "Epoch 15/100\n",
            "29/29 [==============================] - 2s 54ms/step - loss: 0.0032 - val_loss: 0.0020\n",
            "Epoch 16/100\n",
            "29/29 [==============================] - 2s 56ms/step - loss: 0.0032 - val_loss: 0.0020\n",
            "Epoch 17/100\n",
            "29/29 [==============================] - 2s 56ms/step - loss: 0.0032 - val_loss: 0.0019\n",
            "Epoch 18/100\n",
            "29/29 [==============================] - 2s 79ms/step - loss: 0.0032 - val_loss: 0.0019\n",
            "Epoch 19/100\n",
            "29/29 [==============================] - 3s 94ms/step - loss: 0.0032 - val_loss: 0.0019\n",
            "Epoch 20/100\n",
            "29/29 [==============================] - 2s 62ms/step - loss: 0.0032 - val_loss: 0.0018\n",
            "Epoch 21/100\n",
            "29/29 [==============================] - 2s 55ms/step - loss: 0.0032 - val_loss: 0.0019\n",
            "Epoch 22/100\n",
            "29/29 [==============================] - 2s 57ms/step - loss: 0.0032 - val_loss: 0.0020\n",
            "Epoch 23/100\n",
            "29/29 [==============================] - 2s 55ms/step - loss: 0.0032 - val_loss: 0.0020\n",
            "Epoch 24/100\n",
            "29/29 [==============================] - 2s 56ms/step - loss: 0.0032 - val_loss: 0.0020\n",
            "Epoch 25/100\n",
            "29/29 [==============================] - 2s 56ms/step - loss: 0.0032 - val_loss: 0.0021\n",
            "Epoch 26/100\n",
            "29/29 [==============================] - 2s 79ms/step - loss: 0.0032 - val_loss: 0.0019\n",
            "Epoch 27/100\n",
            "29/29 [==============================] - 3s 90ms/step - loss: 0.0032 - val_loss: 0.0019\n",
            "Epoch 28/100\n",
            "29/29 [==============================] - 2s 71ms/step - loss: 0.0032 - val_loss: 0.0018\n",
            "Epoch 29/100\n",
            "29/29 [==============================] - 2s 57ms/step - loss: 0.0032 - val_loss: 0.0018\n",
            "Epoch 30/100\n",
            "29/29 [==============================] - 2s 57ms/step - loss: 0.0032 - val_loss: 0.0018\n",
            "Epoch 31/100\n",
            "29/29 [==============================] - 2s 57ms/step - loss: 0.0032 - val_loss: 0.0018\n",
            "Epoch 32/100\n",
            "29/29 [==============================] - 2s 56ms/step - loss: 0.0032 - val_loss: 0.0019\n",
            "Epoch 33/100\n",
            "29/29 [==============================] - 2s 55ms/step - loss: 0.0032 - val_loss: 0.0019\n",
            "Epoch 34/100\n",
            "29/29 [==============================] - 3s 118ms/step - loss: 0.0032 - val_loss: 0.0019\n",
            "Epoch 35/100\n",
            "29/29 [==============================] - 5s 172ms/step - loss: 0.0031 - val_loss: 0.0019\n",
            "Epoch 36/100\n",
            "29/29 [==============================] - 2s 55ms/step - loss: 0.0031 - val_loss: 0.0019\n",
            "Epoch 37/100\n",
            "29/29 [==============================] - 2s 55ms/step - loss: 0.0032 - val_loss: 0.0019\n",
            "Epoch 38/100\n",
            "29/29 [==============================] - 2s 56ms/step - loss: 0.0032 - val_loss: 0.0018\n",
            "Epoch 39/100\n",
            "29/29 [==============================] - 2s 57ms/step - loss: 0.0032 - val_loss: 0.0019\n",
            "Epoch 40/100\n",
            "29/29 [==============================] - 2s 56ms/step - loss: 0.0032 - val_loss: 0.0020\n",
            "Epoch 41/100\n",
            "29/29 [==============================] - 2s 75ms/step - loss: 0.0032 - val_loss: 0.0019\n",
            "Epoch 42/100\n",
            "29/29 [==============================] - 3s 95ms/step - loss: 0.0031 - val_loss: 0.0019\n",
            "Epoch 43/100\n",
            "29/29 [==============================] - 2s 73ms/step - loss: 0.0031 - val_loss: 0.0018\n",
            "Epoch 44/100\n",
            "29/29 [==============================] - 2s 55ms/step - loss: 0.0032 - val_loss: 0.0018\n",
            "Epoch 45/100\n",
            "29/29 [==============================] - 2s 55ms/step - loss: 0.0031 - val_loss: 0.0018\n",
            "Epoch 46/100\n",
            "29/29 [==============================] - 2s 56ms/step - loss: 0.0031 - val_loss: 0.0019\n",
            "Epoch 47/100\n",
            "29/29 [==============================] - 2s 54ms/step - loss: 0.0031 - val_loss: 0.0019\n",
            "Epoch 48/100\n",
            "29/29 [==============================] - 2s 56ms/step - loss: 0.0031 - val_loss: 0.0018\n",
            "Epoch 49/100\n",
            "29/29 [==============================] - 2s 70ms/step - loss: 0.0031 - val_loss: 0.0018\n",
            "Epoch 50/100\n",
            "29/29 [==============================] - 3s 92ms/step - loss: 0.0031 - val_loss: 0.0019\n",
            "Epoch 51/100\n",
            "29/29 [==============================] - 2s 76ms/step - loss: 0.0031 - val_loss: 0.0019\n",
            "Epoch 52/100\n",
            "29/29 [==============================] - 2s 55ms/step - loss: 0.0031 - val_loss: 0.0019\n",
            "Epoch 53/100\n",
            "29/29 [==============================] - 2s 56ms/step - loss: 0.0032 - val_loss: 0.0018\n",
            "Epoch 54/100\n",
            "29/29 [==============================] - 2s 55ms/step - loss: 0.0031 - val_loss: 0.0018\n",
            "Epoch 55/100\n",
            "29/29 [==============================] - 2s 54ms/step - loss: 0.0031 - val_loss: 0.0018\n",
            "Epoch 56/100\n",
            "29/29 [==============================] - 2s 56ms/step - loss: 0.0032 - val_loss: 0.0018\n",
            "Epoch 57/100\n",
            "29/29 [==============================] - 2s 63ms/step - loss: 0.0032 - val_loss: 0.0019\n",
            "Epoch 58/100\n",
            "29/29 [==============================] - 3s 94ms/step - loss: 0.0032 - val_loss: 0.0019\n",
            "Epoch 59/100\n",
            "29/29 [==============================] - 2s 83ms/step - loss: 0.0031 - val_loss: 0.0018\n",
            "Epoch 60/100\n",
            "29/29 [==============================] - 2s 56ms/step - loss: 0.0031 - val_loss: 0.0020\n",
            "Epoch 61/100\n",
            "29/29 [==============================] - 2s 55ms/step - loss: 0.0032 - val_loss: 0.0018\n",
            "Epoch 62/100\n",
            "29/29 [==============================] - 2s 56ms/step - loss: 0.0031 - val_loss: 0.0019\n",
            "Epoch 63/100\n",
            "29/29 [==============================] - 2s 54ms/step - loss: 0.0031 - val_loss: 0.0019\n",
            "Epoch 64/100\n",
            "29/29 [==============================] - 2s 58ms/step - loss: 0.0031 - val_loss: 0.0018\n",
            "Epoch 65/100\n",
            "29/29 [==============================] - 2s 65ms/step - loss: 0.0031 - val_loss: 0.0019\n",
            "Epoch 66/100\n",
            "29/29 [==============================] - 3s 95ms/step - loss: 0.0031 - val_loss: 0.0018\n",
            "Epoch 67/100\n",
            "29/29 [==============================] - 2s 85ms/step - loss: 0.0031 - val_loss: 0.0018\n",
            "Epoch 68/100\n",
            "29/29 [==============================] - 2s 56ms/step - loss: 0.0031 - val_loss: 0.0019\n",
            "Epoch 69/100\n",
            "29/29 [==============================] - 2s 56ms/step - loss: 0.0032 - val_loss: 0.0019\n",
            "Epoch 70/100\n",
            "29/29 [==============================] - 2s 55ms/step - loss: 0.0031 - val_loss: 0.0019\n",
            "Epoch 71/100\n",
            "29/29 [==============================] - 2s 56ms/step - loss: 0.0031 - val_loss: 0.0019\n",
            "Epoch 72/100\n",
            "29/29 [==============================] - 2s 56ms/step - loss: 0.0031 - val_loss: 0.0019\n",
            "Epoch 73/100\n",
            "29/29 [==============================] - 2s 58ms/step - loss: 0.0031 - val_loss: 0.0018\n",
            "Epoch 74/100\n",
            "29/29 [==============================] - 3s 91ms/step - loss: 0.0031 - val_loss: 0.0018\n",
            "Epoch 75/100\n",
            "29/29 [==============================] - 3s 92ms/step - loss: 0.0031 - val_loss: 0.0018\n",
            "Epoch 76/100\n",
            "29/29 [==============================] - 2s 56ms/step - loss: 0.0031 - val_loss: 0.0019\n",
            "Epoch 77/100\n",
            "29/29 [==============================] - 2s 56ms/step - loss: 0.0031 - val_loss: 0.0019\n",
            "Epoch 78/100\n",
            "29/29 [==============================] - 2s 57ms/step - loss: 0.0031 - val_loss: 0.0019\n",
            "Epoch 79/100\n",
            "29/29 [==============================] - 2s 56ms/step - loss: 0.0031 - val_loss: 0.0018\n",
            "Epoch 80/100\n",
            "29/29 [==============================] - 2s 57ms/step - loss: 0.0031 - val_loss: 0.0019\n",
            "Epoch 81/100\n",
            "29/29 [==============================] - 2s 55ms/step - loss: 0.0031 - val_loss: 0.0019\n",
            "Epoch 82/100\n",
            "29/29 [==============================] - 3s 93ms/step - loss: 0.0031 - val_loss: 0.0019\n",
            "Epoch 83/100\n",
            "29/29 [==============================] - 3s 91ms/step - loss: 0.0031 - val_loss: 0.0018\n",
            "Epoch 84/100\n",
            "29/29 [==============================] - 2s 57ms/step - loss: 0.0031 - val_loss: 0.0019\n",
            "Epoch 85/100\n",
            "29/29 [==============================] - 2s 57ms/step - loss: 0.0031 - val_loss: 0.0019\n",
            "Epoch 86/100\n",
            "29/29 [==============================] - 2s 56ms/step - loss: 0.0031 - val_loss: 0.0018\n",
            "Epoch 87/100\n",
            "29/29 [==============================] - 2s 56ms/step - loss: 0.0031 - val_loss: 0.0019\n",
            "Epoch 88/100\n",
            "29/29 [==============================] - 2s 56ms/step - loss: 0.0031 - val_loss: 0.0019\n",
            "Epoch 89/100\n",
            "29/29 [==============================] - 2s 58ms/step - loss: 0.0031 - val_loss: 0.0019\n",
            "Epoch 90/100\n",
            "29/29 [==============================] - 3s 90ms/step - loss: 0.0031 - val_loss: 0.0019\n",
            "Epoch 91/100\n",
            "29/29 [==============================] - 3s 92ms/step - loss: 0.0031 - val_loss: 0.0018\n",
            "Epoch 92/100\n",
            "29/29 [==============================] - 2s 56ms/step - loss: 0.0031 - val_loss: 0.0019\n",
            "Epoch 93/100\n",
            "29/29 [==============================] - 2s 55ms/step - loss: 0.0031 - val_loss: 0.0019\n",
            "Epoch 94/100\n",
            "29/29 [==============================] - 2s 57ms/step - loss: 0.0031 - val_loss: 0.0018\n",
            "Epoch 95/100\n",
            "29/29 [==============================] - 2s 56ms/step - loss: 0.0031 - val_loss: 0.0019\n",
            "Epoch 96/100\n",
            "29/29 [==============================] - 2s 57ms/step - loss: 0.0031 - val_loss: 0.0019\n",
            "Epoch 97/100\n",
            "29/29 [==============================] - 2s 57ms/step - loss: 0.0031 - val_loss: 0.0019\n",
            "Epoch 98/100\n",
            "29/29 [==============================] - 3s 88ms/step - loss: 0.0031 - val_loss: 0.0019\n",
            "Epoch 99/100\n",
            "29/29 [==============================] - 3s 90ms/step - loss: 0.0031 - val_loss: 0.0019\n",
            "Epoch 100/100\n",
            "29/29 [==============================] - 2s 64ms/step - loss: 0.0031 - val_loss: 0.0018\n"
          ]
        },
        {
          "output_type": "execute_result",
          "data": {
            "text/plain": [
              "<keras.src.callbacks.History at 0x7b6cb5c05a50>"
            ]
          },
          "metadata": {},
          "execution_count": 57
        }
      ]
    },
    {
      "cell_type": "code",
      "source": [
        "# 10. Dự báo dữ liệu test\n",
        "train_predict=model.predict(X_train)\n",
        "y_pred=model.predict(X_test)\n",
        "y_pred_val=model.predict(X_val)"
      ],
      "metadata": {
        "colab": {
          "base_uri": "https://localhost:8080/"
        },
        "id": "3Fj8SWhXm5zI",
        "outputId": "6959bf55-abee-49da-f790-f7bbee85d054"
      },
      "execution_count": 58,
      "outputs": [
        {
          "output_type": "stream",
          "name": "stdout",
          "text": [
            "58/58 [==============================] - 1s 12ms/step\n",
            "15/15 [==============================] - 0s 12ms/step\n",
            "6/6 [==============================] - 0s 12ms/step\n"
          ]
        }
      ]
    },
    {
      "cell_type": "code",
      "source": [
        "# 11. Chuẩn hóa dữ liệu y_pred\n",
        "train_predict=scaler.inverse_transform(train_predict)\n",
        "y_pred=scaler.inverse_transform(y_pred)"
      ],
      "metadata": {
        "id": "lxfqw_FFnuQe"
      },
      "execution_count": 59,
      "outputs": []
    },
    {
      "cell_type": "code",
      "source": [
        "\n",
        "test_rmse = np.sqrt(np.mean((y_pred - ytest)**2))\n",
        "print('Testing RMSE:', test_rmse)"
      ],
      "metadata": {
        "colab": {
          "base_uri": "https://localhost:8080/"
        },
        "id": "eMoN0BRMnyLc",
        "outputId": "8693d4f2-b9e2-4ee1-f1ff-b85af054536d"
      },
      "execution_count": 60,
      "outputs": [
        {
          "output_type": "stream",
          "name": "stdout",
          "text": [
            "Testing RMSE: 74.64206906946842\n"
          ]
        }
      ]
    },
    {
      "cell_type": "code",
      "source": [
        "import numpy as np\n",
        "from numpy import array\n",
        "\n",
        "# Assuming val_data is your initial data array and model is your trained model\n",
        "\n",
        "# Set the number of time steps to use for each prediction\n",
        "n_steps = 100\n",
        "\n",
        "# Initialize the input data\n",
        "x_input = val_data[60:].reshape(1, -1)\n",
        "temp_input = list(x_input)\n",
        "temp_input = temp_input[0].tolist()\n",
        "\n",
        "# List to store the predictions\n",
        "lst_output = []\n",
        "\n",
        "# Number of days to predict\n",
        "n_days = 30\n",
        "\n",
        "# Loop to generate predictions for the next n_days\n",
        "for i in range(n_days):\n",
        "    if len(temp_input) > n_steps:\n",
        "        x_input = np.array(temp_input[-n_steps:])  # Use the last n_steps elements\n",
        "        x_input = x_input.reshape((1, n_steps, 1))  # Reshape to (1, n_steps, 1)\n",
        "        yhat = model.predict(x_input, verbose=0)\n",
        "        temp_input.append(yhat[0][0])  # Append the prediction to the input list\n",
        "        lst_output.append(yhat[0][0])  # Store the prediction in the output list\n",
        "    else:\n",
        "        x_input = np.array(temp_input)\n",
        "        x_input = x_input.reshape((1, n_steps, 1))\n",
        "        yhat = model.predict(x_input, verbose=0)\n",
        "        temp_input.append(yhat[0][0])  # Append the prediction to the input list\n",
        "        lst_output.append(yhat[0][0])  # Store the prediction in the output list\n",
        "\n",
        "# Print the predictions\n",
        "print(lst_output)\n"
      ],
      "metadata": {
        "colab": {
          "base_uri": "https://localhost:8080/"
        },
        "id": "JUOWJWnpnzw3",
        "outputId": "2e00bf92-f94d-4cba-f53e-19cc679b8f80"
      },
      "execution_count": 61,
      "outputs": [
        {
          "output_type": "stream",
          "name": "stdout",
          "text": [
            "[0.14480123, 0.15424237, 0.15914299, 0.16224685, 0.16448463, 0.16617665, 0.16746886, 0.1684598, 0.16922803, 0.16983704, 0.17033538, 0.17075865, 0.17113236, 0.17147388, 0.1717949, 0.17210318, 0.17240341, 0.17269804, 0.17298834, 0.17327495, 0.17355835, 0.17383838, 0.1741149, 0.17438771, 0.17465632, 0.1749205, 0.1751803, 0.17543554, 0.17568623, 0.17593227]\n"
          ]
        }
      ]
    },
    {
      "cell_type": "code",
      "source": [
        "# 14.Vẽ hình\n",
        "lst_output_2d = np.array(lst_output).reshape(-1, 1)\n",
        "\n",
        "train_data_index = pd.RangeIndex(start=0, stop=train_size, step=1)\n",
        "plt.plot(scaler.inverse_transform(train_data))\n",
        "test_data_index = pd.RangeIndex(start=train_size, stop=train_size+test_size, step=1)\n",
        "plt.plot(test_data_index,scaler.inverse_transform(test_data))\n",
        "test_data_index = pd.RangeIndex(start=train_size+101, stop=train_size+test_size, step=1)\n",
        "plt.plot(test_data_index,(y_pred))\n",
        "val_data_index = pd.RangeIndex(start=train_size+test_size, stop=train_size+test_size+val_size, step=1)\n",
        "val_data_index = pd.RangeIndex(start=train_size+test_size+101, stop=train_size+test_size+val_size, step=1)\n",
        "plt.legend(['Train','Test','Predict'])\n",
        "plt.show()"
      ],
      "metadata": {
        "colab": {
          "base_uri": "https://localhost:8080/",
          "height": 430
        },
        "id": "UY54payvoOJo",
        "outputId": "e425f7d6-d83f-4a44-f4a2-a1bffede2e34"
      },
      "execution_count": 68,
      "outputs": [
        {
          "output_type": "display_data",
          "data": {
            "text/plain": [
              "<Figure size 640x480 with 1 Axes>"
            ],
            "image/png": "[encoded data removed]"
          },
          "metadata": {}
        }
      ]
    },
    {
      "cell_type": "code",
      "source": [],
      "metadata": {
        "id": "wNV0Apkjo8A_"
      },
      "execution_count": 62,
      "outputs": []
    }
  ]
}