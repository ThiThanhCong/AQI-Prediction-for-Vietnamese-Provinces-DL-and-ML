{
 "cells": [
  {
   "cell_type": "code",
   "execution_count": 1,
   "id": "314ac9fd-6e89-4832-b112-5b6ab0584ed5",
   "metadata": {},
   "outputs": [],
   "source": [
    "import numpy as np\n",
    "import pandas as pd\n",
    "import matplotlib.pyplot as plt"
   ]
  },
  {
   "cell_type": "code",
   "execution_count": 2,
   "id": "ac58dab2-d670-4249-a42e-bff83f3a0d08",
   "metadata": {},
   "outputs": [],
   "source": [
    "def Jacobian(f, a, b, x): \n",
    "    eps = 1e-6\n",
    "    grad_a = (f(a + eps, b, x) - f(a -eps, b, x)) / (2*eps)\n",
    "    grad_b = (f(a, b + eps, x) - f(a, b -eps, x)) / (2*eps)\n",
    "    return np.column_stack([grad_a, grad_b])"
   ]
  },
  {
   "cell_type": "code",
   "execution_count": 3,
   "id": "43c8fbb8-2a1d-4bae-90ef-559dc0f78c76",
   "metadata": {},
   "outputs": [],
   "source": [
    "def Gauss_Newton(f, x, y, a0, b0, tol, max_inter):\n",
    "    old = new = np.array([a0, b0])\n",
    "    for itr in range(max_iter):\n",
    "        old = new\n",
    "        J = Jacobian(f, old[0], old[1], x)\n",
    "        dy = y - f(old[0], old[1], x)\n",
    "        new = old + np.linalg.inv(J.T@J)@J.T@dy\n",
    "        if np.linalg.norm(old - new) < tol:\n",
    "            break\n",
    "    return new"
   ]
  },
  {
   "cell_type": "code",
   "execution_count": 4,
   "id": "c52e66cc-a346-4102-8d7f-6d44d5243678",
   "metadata": {},
   "outputs": [],
   "source": [
    "import pandas as pd"
   ]
  },
  {
   "cell_type": "code",
   "execution_count": 5,
   "id": "ee94026f-1da2-49ce-8bdf-344db37db660",
   "metadata": {},
   "outputs": [],
   "source": [
    "df = pd.read_csv(r\"D:\\Dataset\\HaNoi.csv\")"
   ]
  },
  {
   "cell_type": "code",
   "execution_count": 6,
   "id": "2245bbd8-b7d6-4183-aa04-79dc45998829",
   "metadata": {},
   "outputs": [
    {
     "data": {
      "text/plain": [
       "<bound method NDFrame.head of       Unnamed: 0       date  pm25  pm10  o3  no2  so2  co  AQI\n",
       "0              1   1/1/2014    95   124  22   40    6  28  124\n",
       "1              2   1/2/2014   186   144  69   39    8  43  186\n",
       "2              3   1/3/2014   227   151  24   25   12  28  227\n",
       "3              4   1/4/2014   253    48  13   19   12  14  253\n",
       "4              5   1/5/2014    95   115  65   35    5  33  115\n",
       "...          ...        ...   ...   ...  ..  ...  ...  ..  ...\n",
       "2774        2775  3/21/2024   130    72  13    1    8   8  130\n",
       "2775        2776  3/22/2024   112    56   9    1    8   5  112\n",
       "2776        2777  3/23/2024    76    54  11    1    7   6   76\n",
       "2777        2778  3/24/2024    72    53  11    1    7   7   72\n",
       "2778        2779  3/25/2024    73    48  13   19   12  14   73\n",
       "\n",
       "[2779 rows x 9 columns]>"
      ]
     },
     "execution_count": 6,
     "metadata": {},
     "output_type": "execute_result"
    }
   ],
   "source": [
    "df.head"
   ]
  },
  {
   "cell_type": "code",
   "execution_count": 7,
   "id": "34576fab-32c4-4cdf-bf04-6a71061b3753",
   "metadata": {},
   "outputs": [],
   "source": [
    "df['date'] = pd.to_datetime(df['date'])\n",
    "\n",
    "# Split the dataset into training and test sets\n",
    "train_df = df[(df['date'] >= '2019-03-01') & (df['date'] <= '2024-03-01')]\n",
    "test_df = df[df['date'] > '2024-03-01']\n",
    "\n",
    "# Now 'train_df' holds the training set and 'test_df' holds the test set\n"
   ]
  },
  {
   "cell_type": "code",
   "execution_count": 8,
   "id": "1ca8fd76-fce8-4281-8a05-424f74f1c573",
   "metadata": {},
   "outputs": [
    {
     "data": {
      "text/html": [
       "<div>\n",
       "<style scoped>\n",
       "    .dataframe tbody tr th:only-of-type {\n",
       "        vertical-align: middle;\n",
       "    }\n",
       "\n",
       "    .dataframe tbody tr th {\n",
       "        vertical-align: top;\n",
       "    }\n",
       "\n",
       "    .dataframe thead th {\n",
       "        text-align: right;\n",
       "    }\n",
       "</style>\n",
       "<table border=\"1\" class=\"dataframe\">\n",
       "  <thead>\n",
       "    <tr style=\"text-align: right;\">\n",
       "      <th></th>\n",
       "      <th>Unnamed: 0</th>\n",
       "      <th>date</th>\n",
       "      <th>pm25</th>\n",
       "      <th>pm10</th>\n",
       "      <th>o3</th>\n",
       "      <th>no2</th>\n",
       "      <th>so2</th>\n",
       "      <th>co</th>\n",
       "      <th>AQI</th>\n",
       "    </tr>\n",
       "  </thead>\n",
       "  <tbody>\n",
       "    <tr>\n",
       "      <th>1060</th>\n",
       "      <td>1061</td>\n",
       "      <td>2019-05-03</td>\n",
       "      <td>65</td>\n",
       "      <td>37</td>\n",
       "      <td>13</td>\n",
       "      <td>18</td>\n",
       "      <td>13</td>\n",
       "      <td>12</td>\n",
       "      <td>65</td>\n",
       "    </tr>\n",
       "    <tr>\n",
       "      <th>1061</th>\n",
       "      <td>1062</td>\n",
       "      <td>2019-05-04</td>\n",
       "      <td>65</td>\n",
       "      <td>37</td>\n",
       "      <td>17</td>\n",
       "      <td>18</td>\n",
       "      <td>13</td>\n",
       "      <td>12</td>\n",
       "      <td>65</td>\n",
       "    </tr>\n",
       "    <tr>\n",
       "      <th>1062</th>\n",
       "      <td>1063</td>\n",
       "      <td>2019-05-05</td>\n",
       "      <td>65</td>\n",
       "      <td>37</td>\n",
       "      <td>71</td>\n",
       "      <td>18</td>\n",
       "      <td>13</td>\n",
       "      <td>12</td>\n",
       "      <td>71</td>\n",
       "    </tr>\n",
       "    <tr>\n",
       "      <th>1063</th>\n",
       "      <td>1064</td>\n",
       "      <td>2019-05-06</td>\n",
       "      <td>65</td>\n",
       "      <td>37</td>\n",
       "      <td>24</td>\n",
       "      <td>18</td>\n",
       "      <td>13</td>\n",
       "      <td>12</td>\n",
       "      <td>65</td>\n",
       "    </tr>\n",
       "    <tr>\n",
       "      <th>1064</th>\n",
       "      <td>1065</td>\n",
       "      <td>2019-05-07</td>\n",
       "      <td>65</td>\n",
       "      <td>37</td>\n",
       "      <td>56</td>\n",
       "      <td>18</td>\n",
       "      <td>13</td>\n",
       "      <td>12</td>\n",
       "      <td>65</td>\n",
       "    </tr>\n",
       "    <tr>\n",
       "      <th>...</th>\n",
       "      <td>...</td>\n",
       "      <td>...</td>\n",
       "      <td>...</td>\n",
       "      <td>...</td>\n",
       "      <td>...</td>\n",
       "      <td>...</td>\n",
       "      <td>...</td>\n",
       "      <td>...</td>\n",
       "      <td>...</td>\n",
       "    </tr>\n",
       "    <tr>\n",
       "      <th>2750</th>\n",
       "      <td>2751</td>\n",
       "      <td>2024-02-26</td>\n",
       "      <td>62</td>\n",
       "      <td>26</td>\n",
       "      <td>6</td>\n",
       "      <td>3</td>\n",
       "      <td>8</td>\n",
       "      <td>4</td>\n",
       "      <td>62</td>\n",
       "    </tr>\n",
       "    <tr>\n",
       "      <th>2751</th>\n",
       "      <td>2752</td>\n",
       "      <td>2024-02-27</td>\n",
       "      <td>47</td>\n",
       "      <td>43</td>\n",
       "      <td>5</td>\n",
       "      <td>3</td>\n",
       "      <td>8</td>\n",
       "      <td>6</td>\n",
       "      <td>47</td>\n",
       "    </tr>\n",
       "    <tr>\n",
       "      <th>2752</th>\n",
       "      <td>2753</td>\n",
       "      <td>2024-02-28</td>\n",
       "      <td>86</td>\n",
       "      <td>29</td>\n",
       "      <td>9</td>\n",
       "      <td>2</td>\n",
       "      <td>8</td>\n",
       "      <td>4</td>\n",
       "      <td>86</td>\n",
       "    </tr>\n",
       "    <tr>\n",
       "      <th>2753</th>\n",
       "      <td>2754</td>\n",
       "      <td>2024-02-29</td>\n",
       "      <td>55</td>\n",
       "      <td>27</td>\n",
       "      <td>11</td>\n",
       "      <td>3</td>\n",
       "      <td>8</td>\n",
       "      <td>5</td>\n",
       "      <td>55</td>\n",
       "    </tr>\n",
       "    <tr>\n",
       "      <th>2754</th>\n",
       "      <td>2755</td>\n",
       "      <td>2024-03-01</td>\n",
       "      <td>46</td>\n",
       "      <td>42</td>\n",
       "      <td>12</td>\n",
       "      <td>3</td>\n",
       "      <td>8</td>\n",
       "      <td>6</td>\n",
       "      <td>46</td>\n",
       "    </tr>\n",
       "  </tbody>\n",
       "</table>\n",
       "<p>1695 rows × 9 columns</p>\n",
       "</div>"
      ],
      "text/plain": [
       "      Unnamed: 0       date  pm25  pm10  o3  no2  so2  co  AQI\n",
       "1060        1061 2019-05-03    65    37  13   18   13  12   65\n",
       "1061        1062 2019-05-04    65    37  17   18   13  12   65\n",
       "1062        1063 2019-05-05    65    37  71   18   13  12   71\n",
       "1063        1064 2019-05-06    65    37  24   18   13  12   65\n",
       "1064        1065 2019-05-07    65    37  56   18   13  12   65\n",
       "...          ...        ...   ...   ...  ..  ...  ...  ..  ...\n",
       "2750        2751 2024-02-26    62    26   6    3    8   4   62\n",
       "2751        2752 2024-02-27    47    43   5    3    8   6   47\n",
       "2752        2753 2024-02-28    86    29   9    2    8   4   86\n",
       "2753        2754 2024-02-29    55    27  11    3    8   5   55\n",
       "2754        2755 2024-03-01    46    42  12    3    8   6   46\n",
       "\n",
       "[1695 rows x 9 columns]"
      ]
     },
     "execution_count": 8,
     "metadata": {},
     "output_type": "execute_result"
    }
   ],
   "source": [
    "train_df"
   ]
  },
  {
   "cell_type": "code",
   "execution_count": 9,
   "id": "758741aa-bc74-4065-a9e4-a403c59ad2e2",
   "metadata": {},
   "outputs": [],
   "source": [
    "X_train = train_df['Unnamed: 0']\n",
    "y_train =  train_df['AQI']\n",
    "\n",
    "X_test = test_df[\"Unnamed: 0\"]\n",
    "y_test = test_df[\"AQI\"]"
   ]
  },
  {
   "cell_type": "code",
   "execution_count": 10,
   "id": "44479984-b7b7-4518-8ecf-f90b22e7bd39",
   "metadata": {},
   "outputs": [
    {
     "data": {
      "text/plain": [
       "[<matplotlib.lines.Line2D at 0x2580aa12050>]"
      ]
     },
     "execution_count": 10,
     "metadata": {},
     "output_type": "execute_result"
    },
    {
     "data": {
      "image/png": "[encoded data removed]",
      "text/plain": [
       "<Figure size 640x480 with 1 Axes>"
      ]
     },
     "metadata": {},
     "output_type": "display_data"
    }
   ],
   "source": [
    "plt.plot(X_train, y_train)"
   ]
  },
  {
   "cell_type": "code",
   "execution_count": 11,
   "id": "fc3034ec-845e-47b0-8c9f-71b17b020de4",
   "metadata": {},
   "outputs": [
    {
     "name": "stdout",
     "output_type": "stream",
     "text": [
      "Estimated parameters: [1.65067141 1.00004781]\n"
     ]
    }
   ],
   "source": [
    "# Example non-linear model function f(a, b, x)\n",
    "def f(a, b, x):\n",
    "    return a * np.sin(b * x)  # Replace with your actual non-linear model\n",
    "\n",
    "a0 = 1.0\n",
    "b0 = 1.0\n",
    "tol = 1e-6\n",
    "max_iter = 100\n",
    "\n",
    "# Perform the Gauss-Newton optimization\n",
    "estimated_parameters = Gauss_Newton(f, X_train, y_train, a0, b0, tol, max_iter)\n",
    "\n",
    "print(\"Estimated parameters:\", estimated_parameters)\n"
   ]
  },
  {
   "cell_type": "code",
   "execution_count": 13,
   "id": "7cdeecaa-59dc-494d-a626-d54aa849a44b",
   "metadata": {},
   "outputs": [
    {
     "data": {
      "image/png": "[encoded data removed]",
      "text/plain": [
       "<Figure size 1000x500 with 1 Axes>"
      ]
     },
     "metadata": {},
     "output_type": "display_data"
    }
   ],
   "source": [
    "# Assuming 'Gauss_Newton' function returns parameters 'a' and 'b'\n",
    "a_est, b_est = estimated_parameters\n",
    "\n",
    "# Generate predictions using the estimated parameters\n",
    "y_pred = f(a_est, b_est, X_test)\n",
    "\n",
    "# Plot the test data\n",
    "plt.figure(figsize=(10, 5))\n",
    "plt.scatter(X_test, y_test, color='blue', label='Actual Test Data')\n",
    "\n",
    "# Plot the predicted data\n",
    "plt.plot(X_test, y_pred, color='red', linestyle='--', label='Predicted Data')\n",
    "\n",
    "# Add title and labels\n",
    "plt.title('Test Data vs Predicted Data')\n",
    "plt.xlabel('X values')\n",
    "plt.ylabel('AQI')\n",
    "plt.legend()\n",
    "\n",
    "# Show the plot\n",
    "plt.show()\n"
   ]
  },
  {
   "cell_type": "code",
   "execution_count": null,
   "id": "f7e0559d-1e54-42d9-8db1-bc86889dc69d",
   "metadata": {},
   "outputs": [],
   "source": []
  }
 ],
 "metadata": {
  "kernelspec": {
   "display_name": "Python 3 (ipykernel)",
   "language": "python",
   "name": "python3"
  },
  "language_info": {
   "codemirror_mode": {
    "name": "ipython",
    "version": 3
   },
   "file_extension": ".py",
   "mimetype": "text/x-python",
   "name": "python",
   "nbconvert_exporter": "python",
   "pygments_lexer": "ipython3",
   "version": "3.11.7"
  }
 },
 "nbformat": 4,
 "nbformat_minor": 5
}
